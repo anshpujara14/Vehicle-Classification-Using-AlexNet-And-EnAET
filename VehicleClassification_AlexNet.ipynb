{
  "nbformat": 4,
  "nbformat_minor": 0,
  "metadata": {
    "colab": {
      "name": "VehicleClassification_AlexNet.ipynb",
      "provenance": [],
      "collapsed_sections": []
    },
    "kernelspec": {
      "name": "python3",
      "display_name": "Python 3"
    }
  },
  "cells": [
    {
      "cell_type": "code",
      "metadata": {
        "id": "jlQt-zWrM8Cm"
      },
      "source": [
        "import matplotlib.pyplot as plt\n",
        "import matplotlib.image as mpimg\n",
        "import os\n",
        "import tensorflow as tf\n",
        "import tensorflow.keras as keras\n",
        "import keras_preprocessing\n",
        "from keras_preprocessing import image\n",
        "from keras_preprocessing.image import ImageDataGenerator"
      ],
      "execution_count": null,
      "outputs": []
    },
    {
      "cell_type": "code",
      "metadata": {
        "id": "ANg-rBAdRUbl",
        "colab": {
          "base_uri": "https://localhost:8080/"
        },
        "outputId": "91ec0bdd-d402-48ef-97a3-3a93c97acf73"
      },
      "source": [
        "# Load the Drive helper and mount\n",
        "from google.colab import drive\n",
        "\n",
        "# This will prompt for authorization.\n",
        "drive.mount('/content/drive')"
      ],
      "execution_count": null,
      "outputs": [
        {
          "output_type": "stream",
          "text": [
            "Mounted at /content/drive\n"
          ],
          "name": "stdout"
        }
      ]
    },
    {
      "cell_type": "code",
      "metadata": {
        "id": "D4mgMmNlSAPm"
      },
      "source": [
        "!ls '/content/drive/My Drive'"
      ],
      "execution_count": null,
      "outputs": []
    },
    {
      "cell_type": "code",
      "metadata": {
        "id": "FdpT6T0dTPCx"
      },
      "source": [
        "file_path = \"/content/drive/My Drive/VehicleDataset.zip\"\n",
        "\n",
        "import zipfile\n",
        "\n",
        "zip_ref = zipfile.ZipFile(file_path, 'r')\n",
        "zip_ref.extractall('/sample_data/')\n",
        "zip_ref.close()"
      ],
      "execution_count": null,
      "outputs": []
    },
    {
      "cell_type": "code",
      "metadata": {
        "id": "zwTsWL0kPNYm"
      },
      "source": [
        "model = tf.keras.models.load_model('/content/drive/My Drive/AlexNet_50epochs.h5')"
      ],
      "execution_count": null,
      "outputs": []
    },
    {
      "cell_type": "code",
      "metadata": {
        "id": "GubEAjpSCHgB"
      },
      "source": [
        ""
      ],
      "execution_count": null,
      "outputs": []
    },
    {
      "cell_type": "code",
      "metadata": {
        "id": "BG1MNEC1PyY7"
      },
      "source": [
        "acc      = history.history[     'accuracy' ]\n",
        "val_acc  = history.history[ 'val_accuracy' ]\n",
        "loss     = history.history[    'loss' ]\n",
        "val_loss = history.history['val_loss' ]\n",
        "\n",
        "epochs   = range(len(acc)) # Get number of epochs\n",
        "\n",
        "#------------------------------------------------\n",
        "# Plot training and validation accuracy per epoch\n",
        "#------------------------------------------------\n",
        "plt.plot  ( epochs,     acc )\n",
        "plt.plot  ( epochs, val_acc )\n",
        "plt.title ('Training and validation accuracy')\n",
        "plt.figure()\n",
        "\n",
        "#------------------------------------------------\n",
        "# Plot training and validation loss per epoch\n",
        "#------------------------------------------------\n",
        "plt.plot  ( epochs,     loss )\n",
        "plt.plot  ( epochs, val_loss )\n",
        "plt.title ('Training and validation loss'   )"
      ],
      "execution_count": null,
      "outputs": []
    },
    {
      "cell_type": "code",
      "metadata": {
        "id": "0ZeEHHUsPyGW",
        "colab": {
          "base_uri": "https://localhost:8080/"
        },
        "outputId": "5e716574-f4ac-4d64-e0f4-f7fc51b9726b"
      },
      "source": [
        "model.summary()"
      ],
      "execution_count": null,
      "outputs": [
        {
          "output_type": "stream",
          "text": [
            "Model: \"sequential\"\n",
            "_________________________________________________________________\n",
            "Layer (type)                 Output Shape              Param #   \n",
            "=================================================================\n",
            "conv2d (Conv2D)              (None, 35, 35, 96)        34944     \n",
            "_________________________________________________________________\n",
            "batch_normalization (BatchNo (None, 35, 35, 96)        384       \n",
            "_________________________________________________________________\n",
            "max_pooling2d (MaxPooling2D) (None, 17, 17, 96)        0         \n",
            "_________________________________________________________________\n",
            "conv2d_1 (Conv2D)            (None, 17, 17, 256)       614656    \n",
            "_________________________________________________________________\n",
            "batch_normalization_1 (Batch (None, 17, 17, 256)       1024      \n",
            "_________________________________________________________________\n",
            "max_pooling2d_1 (MaxPooling2 (None, 8, 8, 256)         0         \n",
            "_________________________________________________________________\n",
            "conv2d_2 (Conv2D)            (None, 8, 8, 384)         885120    \n",
            "_________________________________________________________________\n",
            "batch_normalization_2 (Batch (None, 8, 8, 384)         1536      \n",
            "_________________________________________________________________\n",
            "conv2d_3 (Conv2D)            (None, 8, 8, 384)         147840    \n",
            "_________________________________________________________________\n",
            "batch_normalization_3 (Batch (None, 8, 8, 384)         1536      \n",
            "_________________________________________________________________\n",
            "conv2d_4 (Conv2D)            (None, 8, 8, 256)         98560     \n",
            "_________________________________________________________________\n",
            "batch_normalization_4 (Batch (None, 8, 8, 256)         1024      \n",
            "_________________________________________________________________\n",
            "max_pooling2d_2 (MaxPooling2 (None, 4, 4, 256)         0         \n",
            "_________________________________________________________________\n",
            "flatten (Flatten)            (None, 4096)              0         \n",
            "_________________________________________________________________\n",
            "dense (Dense)                (None, 4096)              16781312  \n",
            "_________________________________________________________________\n",
            "dropout (Dropout)            (None, 4096)              0         \n",
            "_________________________________________________________________\n",
            "dense_1 (Dense)              (None, 4096)              16781312  \n",
            "_________________________________________________________________\n",
            "dropout_1 (Dropout)          (None, 4096)              0         \n",
            "_________________________________________________________________\n",
            "dense_2 (Dense)              (None, 11)                45067     \n",
            "=================================================================\n",
            "Total params: 35,394,315\n",
            "Trainable params: 35,391,563\n",
            "Non-trainable params: 2,752\n",
            "_________________________________________________________________\n"
          ],
          "name": "stdout"
        }
      ]
    },
    {
      "cell_type": "code",
      "metadata": {
        "id": "QuDVndbsPxzg"
      },
      "source": [
        ""
      ],
      "execution_count": null,
      "outputs": []
    },
    {
      "cell_type": "code",
      "metadata": {
        "id": "t76Xw6eCPxck"
      },
      "source": [
        ""
      ],
      "execution_count": null,
      "outputs": []
    },
    {
      "cell_type": "code",
      "metadata": {
        "id": "2R20bJ8lwBZW"
      },
      "source": [
        "train_dir = os.path.join(\"/tmp/train/\")"
      ],
      "execution_count": null,
      "outputs": []
    },
    {
      "cell_type": "code",
      "metadata": {
        "id": "E8ltR43hJo7T",
        "colab": {
          "base_uri": "https://localhost:8080/",
          "height": 118
        },
        "outputId": "44449e12-e407-4b4e-9bee-34ec012df8ee"
      },
      "source": [
        "!unzip \"/content/drive/My Drive/VehicleDataset.zip\" -d \"/sample_data/\""
      ],
      "execution_count": null,
      "outputs": [
        {
          "output_type": "stream",
          "text": [
            "Archive:  /content/drive/My Drive/VehicleDataset.zip\n",
            "replace /sample_data/VehicleDataset/test/100010596.jpg? [y]es, [n]o, [A]ll, [N]one, [r]ename: y\n",
            "  inflating: /sample_data/VehicleDataset/test/100010596.jpg  \n",
            "replace /sample_data/VehicleDataset/test/100016545.jpg? [y]es, [n]o, [A]ll, [N]one, [r]ename: a\n",
            "error:  invalid response [a]\n",
            "replace /sample_data/VehicleDataset/test/100016545.jpg? [y]es, [n]o, [A]ll, [N]one, [r]ename: "
          ],
          "name": "stdout"
        }
      ]
    },
    {
      "cell_type": "code",
      "metadata": {
        "id": "rN2SyoE11WDm",
        "colab": {
          "base_uri": "https://localhost:8080/",
          "height": 34
        },
        "outputId": "2baf5b3c-93d5-4e61-eb41-56af500537ae"
      },
      "source": [
        "!ls \"/sample_data/VehicleDataset\""
      ],
      "execution_count": null,
      "outputs": [
        {
          "output_type": "stream",
          "text": [
            "test  train\n"
          ],
          "name": "stdout"
        }
      ]
    },
    {
      "cell_type": "code",
      "metadata": {
        "id": "XjFg8QwmJqsv"
      },
      "source": [
        "TRAINING_DIR = \"/sample_data/VehicleDataset/train/\"\n",
        "training_datagen = ImageDataGenerator(\n",
        "    rescale = 1./255,\n",
        "    rotation_range=40,\n",
        "    width_shift_range=0.2,\n",
        "    height_shift_range=0.2,\n",
        "    shear_range=0.2,\n",
        "    zoom_range=0.2,\n",
        "    horizontal_flip=True,\n",
        "    fill_mode='nearest')"
      ],
      "execution_count": null,
      "outputs": []
    },
    {
      "cell_type": "code",
      "metadata": {
        "id": "eS4tIhGQJzmo",
        "colab": {
          "base_uri": "https://localhost:8080/",
          "height": 34
        },
        "outputId": "9778ea21-1b77-47b2-c98a-a8dff8300e5b"
      },
      "source": [
        "train_generator = training_datagen.flow_from_directory(\n",
        "    TRAINING_DIR,\n",
        "    target_size=(150,150),\n",
        "    class_mode='categorical',\n",
        "    batch_size=126)"
      ],
      "execution_count": null,
      "outputs": [
        {
          "output_type": "stream",
          "text": [
            "Found 519164 images belonging to 11 classes.\n"
          ],
          "name": "stdout"
        }
      ]
    },
    {
      "cell_type": "code",
      "metadata": {
        "id": "6DJJy-9T_cNX"
      },
      "source": [
        "head -n5 {train_generator}"
      ],
      "execution_count": null,
      "outputs": []
    },
    {
      "cell_type": "code",
      "metadata": {
        "id": "-J4AwkCYJ3-A"
      },
      "source": [
        "model = keras.models.Sequential([\n",
        "    keras.layers.Conv2D(filters=96, kernel_size=(11,11), strides=(4,4), activation='relu', input_shape=(150,150,3)),\n",
        "    keras.layers.BatchNormalization(),\n",
        "    keras.layers.MaxPool2D(pool_size=(3,3), strides=(2,2)),\n",
        "    keras.layers.Conv2D(filters=256, kernel_size=(5,5), strides=(1,1), activation='relu', padding=\"valid\"),\n",
        "    keras.layers.BatchNormalization(),\n",
        "    keras.layers.MaxPool2D(pool_size=(3,3), strides=(2,2)),\n",
        "    keras.layers.Conv2D(filters=384, kernel_size=(3,3), strides=(1,1), activation='relu', padding=\"valid\"),\n",
        "    keras.layers.BatchNormalization(),\n",
        "    keras.layers.Conv2D(filters=384, kernel_size=(1,1), strides=(1,1), activation='relu', padding=\"valid\"),\n",
        "    keras.layers.BatchNormalization(),\n",
        "    keras.layers.Conv2D(filters=256, kernel_size=(1,1), strides=(1,1), activation='relu', padding=\"valid\"),\n",
        "    keras.layers.BatchNormalization(),\n",
        "    keras.layers.MaxPool2D(pool_size=(3,3), strides=(2,2)),\n",
        "    keras.layers.Flatten(),\n",
        "    keras.layers.Dense(4096, activation='relu'),\n",
        "    keras.layers.Dropout(0.5),\n",
        "    keras.layers.Dense(4096, activation='relu'),\n",
        "    keras.layers.Dropout(0.5),\n",
        "    keras.layers.Dense(11, activation='softmax')\n",
        "])"
      ],
      "execution_count": null,
      "outputs": []
    },
    {
      "cell_type": "code",
      "metadata": {
        "id": "z8gzT-rJ2tyK"
      },
      "source": [
        "model.summary()\n",
        "\n",
        "model.compile(loss='sparse_categorical_crossentropy', optimizer=tf.optimizers.SGD(lr=0.001), metrics=['accuracy'])\n",
        "\n",
        "history = model.fit(train_generator, epochs=25, steps_per_epoch=20, verbose = 1, validation_steps=3)"
      ],
      "execution_count": null,
      "outputs": []
    },
    {
      "cell_type": "code",
      "metadata": {
        "id": "bEgsr6013ORU",
        "colab": {
          "base_uri": "https://localhost:8080/",
          "height": 1000
        },
        "outputId": "a51de770-4ce6-402c-b7f6-209c236af1bf"
      },
      "source": [
        "model = tf.keras.models.Sequential([\n",
        "    # Note the input shape is the desired size of the image 150x150 with 3 bytes color\n",
        "    # This is the first convolution\n",
        "    tf.keras.layers.Conv2D(64, (3,3), activation='relu', input_shape=(150, 150, 3)),\n",
        "    tf.keras.layers.MaxPooling2D(2, 2),\n",
        "    # The second convolution\n",
        "    tf.keras.layers.Conv2D(64, (3,3), activation='relu'),\n",
        "    tf.keras.layers.MaxPooling2D(2,2),\n",
        "    # The third convolution\n",
        "    tf.keras.layers.Conv2D(128, (3,3), activation='relu'),\n",
        "    tf.keras.layers.MaxPooling2D(2,2),\n",
        "    # The fourth convolution\n",
        "    tf.keras.layers.Conv2D(128, (3,3), activation='relu'),\n",
        "    tf.keras.layers.MaxPooling2D(2,2),\n",
        "    # Flatten the results to feed into a DNN\n",
        "    tf.keras.layers.Flatten(),\n",
        "    tf.keras.layers.Dropout(0.5),\n",
        "    # 512 neuron hidden layer\n",
        "    tf.keras.layers.Dense(512, activation='relu'),\n",
        "    tf.keras.layers.Dense(11, activation='softmax')\n",
        "])\n",
        "\n",
        "\n",
        "model.summary()\n",
        "\n",
        "model.compile(loss = 'categorical_crossentropy', optimizer='rmsprop', metrics=['accuracy'])\n",
        "\n",
        "history = model.fit(train_generator, epochs=25, steps_per_epoch=20, verbose = 1, validation_steps=3)"
      ],
      "execution_count": null,
      "outputs": [
        {
          "output_type": "stream",
          "text": [
            "Model: \"sequential_5\"\n",
            "_________________________________________________________________\n",
            "Layer (type)                 Output Shape              Param #   \n",
            "=================================================================\n",
            "conv2d_24 (Conv2D)           (None, 148, 148, 64)      1792      \n",
            "_________________________________________________________________\n",
            "max_pooling2d_16 (MaxPooling (None, 74, 74, 64)        0         \n",
            "_________________________________________________________________\n",
            "conv2d_25 (Conv2D)           (None, 72, 72, 64)        36928     \n",
            "_________________________________________________________________\n",
            "max_pooling2d_17 (MaxPooling (None, 36, 36, 64)        0         \n",
            "_________________________________________________________________\n",
            "conv2d_26 (Conv2D)           (None, 34, 34, 128)       73856     \n",
            "_________________________________________________________________\n",
            "max_pooling2d_18 (MaxPooling (None, 17, 17, 128)       0         \n",
            "_________________________________________________________________\n",
            "conv2d_27 (Conv2D)           (None, 15, 15, 128)       147584    \n",
            "_________________________________________________________________\n",
            "max_pooling2d_19 (MaxPooling (None, 7, 7, 128)         0         \n",
            "_________________________________________________________________\n",
            "flatten_5 (Flatten)          (None, 6272)              0         \n",
            "_________________________________________________________________\n",
            "dropout_9 (Dropout)          (None, 6272)              0         \n",
            "_________________________________________________________________\n",
            "dense_14 (Dense)             (None, 512)               3211776   \n",
            "_________________________________________________________________\n",
            "dense_15 (Dense)             (None, 11)                5643      \n",
            "=================================================================\n",
            "Total params: 3,477,579\n",
            "Trainable params: 3,477,579\n",
            "Non-trainable params: 0\n",
            "_________________________________________________________________\n",
            "Epoch 1/25\n",
            "20/20 [==============================] - 161s 8s/step - loss: 2.2434 - accuracy: 0.4306\n",
            "Epoch 2/25\n",
            "20/20 [==============================] - 161s 8s/step - loss: 1.4019 - accuracy: 0.4944\n",
            "Epoch 3/25\n",
            "20/20 [==============================] - 162s 8s/step - loss: 1.3889 - accuracy: 0.5012\n",
            "Epoch 4/25\n",
            "20/20 [==============================] - 162s 8s/step - loss: 1.3117 - accuracy: 0.6032\n",
            "Epoch 5/25\n",
            "20/20 [==============================] - 159s 8s/step - loss: 1.1173 - accuracy: 0.6679\n",
            "Epoch 6/25\n",
            "20/20 [==============================] - 160s 8s/step - loss: 1.0696 - accuracy: 0.6869\n",
            "Epoch 7/25\n",
            "20/20 [==============================] - 160s 8s/step - loss: 1.0283 - accuracy: 0.7087\n",
            "Epoch 8/25\n",
            "20/20 [==============================] - 159s 8s/step - loss: 1.0249 - accuracy: 0.7091\n",
            "Epoch 9/25\n",
            "20/20 [==============================] - 160s 8s/step - loss: 1.0103 - accuracy: 0.7139\n",
            "Epoch 10/25\n",
            "20/20 [==============================] - 159s 8s/step - loss: 1.0101 - accuracy: 0.7147\n",
            "Epoch 11/25\n",
            "20/20 [==============================] - 161s 8s/step - loss: 0.9486 - accuracy: 0.7274\n",
            "Epoch 12/25\n",
            "20/20 [==============================] - 159s 8s/step - loss: 0.9499 - accuracy: 0.7278\n",
            "Epoch 13/25\n",
            "20/20 [==============================] - 159s 8s/step - loss: 0.9263 - accuracy: 0.7262\n",
            "Epoch 14/25\n",
            "20/20 [==============================] - 159s 8s/step - loss: 0.9257 - accuracy: 0.7313\n",
            "Epoch 15/25\n",
            "20/20 [==============================] - 161s 8s/step - loss: 0.9064 - accuracy: 0.7385\n",
            "Epoch 16/25\n",
            "20/20 [==============================] - 158s 8s/step - loss: 0.9640 - accuracy: 0.7329\n",
            "Epoch 17/25\n",
            "20/20 [==============================] - 160s 8s/step - loss: 0.9245 - accuracy: 0.7278\n",
            "Epoch 18/25\n",
            "20/20 [==============================] - 158s 8s/step - loss: 0.9079 - accuracy: 0.7405\n",
            "Epoch 19/25\n",
            "20/20 [==============================] - 160s 8s/step - loss: 0.9243 - accuracy: 0.7401\n",
            "Epoch 20/25\n",
            "20/20 [==============================] - 159s 8s/step - loss: 0.9530 - accuracy: 0.7234\n",
            "Epoch 21/25\n",
            "20/20 [==============================] - 157s 8s/step - loss: 0.9081 - accuracy: 0.7389\n",
            "Epoch 22/25\n",
            "20/20 [==============================] - 158s 8s/step - loss: 0.8433 - accuracy: 0.7540\n",
            "Epoch 23/25\n",
            "20/20 [==============================] - 157s 8s/step - loss: 0.8588 - accuracy: 0.7599\n",
            "Epoch 24/25\n",
            "20/20 [==============================] - 157s 8s/step - loss: 0.8340 - accuracy: 0.7552\n",
            "Epoch 25/25\n",
            "20/20 [==============================] - 157s 8s/step - loss: 0.8826 - accuracy: 0.7555\n"
          ],
          "name": "stdout"
        }
      ]
    },
    {
      "cell_type": "code",
      "metadata": {
        "id": "JSPja4mSA9cx"
      },
      "source": [
        "model.save(\"cnn1.h5\")"
      ],
      "execution_count": null,
      "outputs": []
    },
    {
      "cell_type": "code",
      "metadata": {
        "id": "tfwrX4FJR30x"
      },
      "source": [
        "model1 = keras.models.Sequential([\n",
        "    keras.layers.Conv2D(filters=96, kernel_size=(11,11), strides=(4,4), activation='relu', input_shape=(150,150,3)),\n",
        "    keras.layers.BatchNormalization(),\n",
        "    keras.layers.MaxPool2D(pool_size=(2,2), strides=(2,2)),\n",
        "    keras.layers.Conv2D(filters=256, kernel_size=(5,5), strides=(1,1), activation='relu', padding=\"same\"),\n",
        "    keras.layers.BatchNormalization(),\n",
        "    keras.layers.MaxPool2D(pool_size=(2,2), strides=(2,2)),\n",
        "    keras.layers.Conv2D(filters=384, kernel_size=(3,3), strides=(1,1), activation='relu', padding=\"same\"),\n",
        "    keras.layers.BatchNormalization(),\n",
        "    keras.layers.Conv2D(filters=384, kernel_size=(1,1), strides=(1,1), activation='relu', padding=\"same\"),\n",
        "    keras.layers.BatchNormalization(),\n",
        "    keras.layers.Conv2D(filters=256, kernel_size=(1,1), strides=(1,1), activation='relu', padding=\"same\"),\n",
        "    keras.layers.BatchNormalization(),\n",
        "    keras.layers.MaxPool2D(pool_size=(2,2), strides=(2,2)),\n",
        "    keras.layers.Flatten(),\n",
        "    keras.layers.Dense(4096, activation='relu'),\n",
        "    keras.layers.Dropout(0.5),\n",
        "    keras.layers.Dense(4096, activation='relu'),\n",
        "    keras.layers.Dropout(0.5),\n",
        "    keras.layers.Dense(11, activation='softmax')\n",
        "])"
      ],
      "execution_count": null,
      "outputs": []
    },
    {
      "cell_type": "code",
      "metadata": {
        "id": "LqNT7OveSXDZ",
        "colab": {
          "base_uri": "https://localhost:8080/",
          "height": 1000
        },
        "outputId": "1de0e9ef-502a-477e-b917-c8e2e3811fed"
      },
      "source": [
        "model1.summary()\n",
        "\n",
        "model1.compile(loss = 'categorical_crossentropy', optimizer='rmsprop', metrics=['accuracy'])\n",
        "\n",
        "history = model1.fit(train_generator, epochs=50, steps_per_epoch=20, verbose = 1, validation_steps=3)"
      ],
      "execution_count": null,
      "outputs": [
        {
          "output_type": "stream",
          "text": [
            "Model: \"sequential\"\n",
            "_________________________________________________________________\n",
            "Layer (type)                 Output Shape              Param #   \n",
            "=================================================================\n",
            "conv2d (Conv2D)              (None, 35, 35, 96)        34944     \n",
            "_________________________________________________________________\n",
            "batch_normalization (BatchNo (None, 35, 35, 96)        384       \n",
            "_________________________________________________________________\n",
            "max_pooling2d (MaxPooling2D) (None, 17, 17, 96)        0         \n",
            "_________________________________________________________________\n",
            "conv2d_1 (Conv2D)            (None, 17, 17, 256)       614656    \n",
            "_________________________________________________________________\n",
            "batch_normalization_1 (Batch (None, 17, 17, 256)       1024      \n",
            "_________________________________________________________________\n",
            "max_pooling2d_1 (MaxPooling2 (None, 8, 8, 256)         0         \n",
            "_________________________________________________________________\n",
            "conv2d_2 (Conv2D)            (None, 8, 8, 384)         885120    \n",
            "_________________________________________________________________\n",
            "batch_normalization_2 (Batch (None, 8, 8, 384)         1536      \n",
            "_________________________________________________________________\n",
            "conv2d_3 (Conv2D)            (None, 8, 8, 384)         147840    \n",
            "_________________________________________________________________\n",
            "batch_normalization_3 (Batch (None, 8, 8, 384)         1536      \n",
            "_________________________________________________________________\n",
            "conv2d_4 (Conv2D)            (None, 8, 8, 256)         98560     \n",
            "_________________________________________________________________\n",
            "batch_normalization_4 (Batch (None, 8, 8, 256)         1024      \n",
            "_________________________________________________________________\n",
            "max_pooling2d_2 (MaxPooling2 (None, 4, 4, 256)         0         \n",
            "_________________________________________________________________\n",
            "flatten (Flatten)            (None, 4096)              0         \n",
            "_________________________________________________________________\n",
            "dense (Dense)                (None, 4096)              16781312  \n",
            "_________________________________________________________________\n",
            "dropout (Dropout)            (None, 4096)              0         \n",
            "_________________________________________________________________\n",
            "dense_1 (Dense)              (None, 4096)              16781312  \n",
            "_________________________________________________________________\n",
            "dropout_1 (Dropout)          (None, 4096)              0         \n",
            "_________________________________________________________________\n",
            "dense_2 (Dense)              (None, 11)                45067     \n",
            "=================================================================\n",
            "Total params: 35,394,315\n",
            "Trainable params: 35,391,563\n",
            "Non-trainable params: 2,752\n",
            "_________________________________________________________________\n",
            "Epoch 1/50\n",
            "20/20 [==============================] - 103s 5s/step - loss: 24.1609 - accuracy: 0.5635\n",
            "Epoch 2/50\n",
            "20/20 [==============================] - 102s 5s/step - loss: 1.2666 - accuracy: 0.6409\n",
            "Epoch 3/50\n",
            "20/20 [==============================] - 102s 5s/step - loss: 1.3309 - accuracy: 0.6417\n",
            "Epoch 4/50\n",
            "20/20 [==============================] - 103s 5s/step - loss: 1.2786 - accuracy: 0.6520\n",
            "Epoch 5/50\n",
            "20/20 [==============================] - 105s 5s/step - loss: 1.2794 - accuracy: 0.6730\n",
            "Epoch 6/50\n",
            "20/20 [==============================] - 106s 5s/step - loss: 1.2120 - accuracy: 0.6810\n",
            "Epoch 7/50\n",
            "20/20 [==============================] - 106s 5s/step - loss: 1.2179 - accuracy: 0.6849\n",
            "Epoch 8/50\n",
            "20/20 [==============================] - 106s 5s/step - loss: 1.1787 - accuracy: 0.6778\n",
            "Epoch 9/50\n",
            "20/20 [==============================] - 105s 5s/step - loss: 1.1389 - accuracy: 0.6865\n",
            "Epoch 10/50\n",
            "20/20 [==============================] - 105s 5s/step - loss: 1.1291 - accuracy: 0.6873\n",
            "Epoch 11/50\n",
            "20/20 [==============================] - 105s 5s/step - loss: 1.0517 - accuracy: 0.7087\n",
            "Epoch 12/50\n",
            "20/20 [==============================] - 105s 5s/step - loss: 1.1221 - accuracy: 0.7175\n",
            "Epoch 13/50\n",
            "20/20 [==============================] - 105s 5s/step - loss: 1.0943 - accuracy: 0.7155\n",
            "Epoch 14/50\n",
            "20/20 [==============================] - 106s 5s/step - loss: 1.1333 - accuracy: 0.7167\n",
            "Epoch 15/50\n",
            "20/20 [==============================] - 105s 5s/step - loss: 1.0989 - accuracy: 0.7060\n",
            "Epoch 16/50\n",
            "20/20 [==============================] - 105s 5s/step - loss: 1.0610 - accuracy: 0.7127\n",
            "Epoch 17/50\n",
            "20/20 [==============================] - 105s 5s/step - loss: 1.0636 - accuracy: 0.7345\n",
            "Epoch 18/50\n",
            "20/20 [==============================] - 105s 5s/step - loss: 0.9928 - accuracy: 0.7508\n",
            "Epoch 19/50\n",
            "20/20 [==============================] - 104s 5s/step - loss: 1.0063 - accuracy: 0.7464\n",
            "Epoch 20/50\n",
            "20/20 [==============================] - 104s 5s/step - loss: 1.0281 - accuracy: 0.7333\n",
            "Epoch 21/50\n",
            "20/20 [==============================] - 105s 5s/step - loss: 1.0180 - accuracy: 0.7393\n",
            "Epoch 22/50\n",
            "20/20 [==============================] - 105s 5s/step - loss: 1.0175 - accuracy: 0.7103\n",
            "Epoch 23/50\n",
            "20/20 [==============================] - 104s 5s/step - loss: 1.0098 - accuracy: 0.7452\n",
            "Epoch 24/50\n",
            "20/20 [==============================] - 104s 5s/step - loss: 1.0403 - accuracy: 0.7377\n",
            "Epoch 25/50\n",
            "20/20 [==============================] - 105s 5s/step - loss: 0.9435 - accuracy: 0.7472\n",
            "Epoch 26/50\n",
            "20/20 [==============================] - 105s 5s/step - loss: 1.0230 - accuracy: 0.7361\n",
            "Epoch 27/50\n",
            "20/20 [==============================] - 105s 5s/step - loss: 0.9191 - accuracy: 0.7667\n",
            "Epoch 28/50\n",
            "20/20 [==============================] - 106s 5s/step - loss: 0.9689 - accuracy: 0.7500\n",
            "Epoch 29/50\n",
            "20/20 [==============================] - 106s 5s/step - loss: 0.9185 - accuracy: 0.7567\n",
            "Epoch 30/50\n",
            "20/20 [==============================] - 105s 5s/step - loss: 1.0093 - accuracy: 0.7381\n",
            "Epoch 31/50\n",
            "20/20 [==============================] - 105s 5s/step - loss: 0.9798 - accuracy: 0.7417\n",
            "Epoch 32/50\n",
            "20/20 [==============================] - 104s 5s/step - loss: 1.0539 - accuracy: 0.7476\n",
            "Epoch 33/50\n",
            "20/20 [==============================] - 104s 5s/step - loss: 0.9052 - accuracy: 0.7706\n",
            "Epoch 34/50\n",
            "20/20 [==============================] - 104s 5s/step - loss: 1.0322 - accuracy: 0.7413\n",
            "Epoch 35/50\n",
            "20/20 [==============================] - 104s 5s/step - loss: 0.9367 - accuracy: 0.7500\n",
            "Epoch 36/50\n",
            "20/20 [==============================] - 104s 5s/step - loss: 0.9491 - accuracy: 0.7623\n",
            "Epoch 37/50\n",
            "20/20 [==============================] - 104s 5s/step - loss: 0.9223 - accuracy: 0.7651\n",
            "Epoch 38/50\n",
            "20/20 [==============================] - 104s 5s/step - loss: 0.9562 - accuracy: 0.7425\n",
            "Epoch 39/50\n",
            "20/20 [==============================] - 104s 5s/step - loss: 0.9401 - accuracy: 0.7615\n",
            "Epoch 40/50\n",
            "20/20 [==============================] - 105s 5s/step - loss: 0.9517 - accuracy: 0.7504\n",
            "Epoch 41/50\n",
            "20/20 [==============================] - 104s 5s/step - loss: 0.9619 - accuracy: 0.7563\n",
            "Epoch 42/50\n",
            "20/20 [==============================] - 104s 5s/step - loss: 0.8988 - accuracy: 0.7698\n",
            "Epoch 43/50\n",
            "20/20 [==============================] - 105s 5s/step - loss: 0.9612 - accuracy: 0.7560\n",
            "Epoch 44/50\n",
            "20/20 [==============================] - 104s 5s/step - loss: 1.0346 - accuracy: 0.7440\n",
            "Epoch 45/50\n",
            "20/20 [==============================] - 104s 5s/step - loss: 1.0259 - accuracy: 0.7556\n",
            "Epoch 46/50\n",
            "20/20 [==============================] - 104s 5s/step - loss: 0.9521 - accuracy: 0.7563\n",
            "Epoch 47/50\n",
            "20/20 [==============================] - 102s 5s/step - loss: 0.8873 - accuracy: 0.7694\n",
            "Epoch 48/50\n",
            "20/20 [==============================] - 103s 5s/step - loss: 0.9350 - accuracy: 0.7671\n",
            "Epoch 49/50\n",
            "20/20 [==============================] - 101s 5s/step - loss: 0.9168 - accuracy: 0.7690\n",
            "Epoch 50/50\n",
            "20/20 [==============================] - 102s 5s/step - loss: 0.8842 - accuracy: 0.7687\n"
          ],
          "name": "stdout"
        }
      ]
    },
    {
      "cell_type": "code",
      "metadata": {
        "id": "KsLfIQTfSdXJ"
      },
      "source": [
        "model1.save(\"AlexNet_50epochs.h5\")"
      ],
      "execution_count": null,
      "outputs": []
    },
    {
      "cell_type": "code",
      "metadata": {
        "id": "HVMV-pzlga5u"
      },
      "source": [
        "new_model = tf.keras.models.load_model('/content/sample_data/AlexNet_50epochs.h5')"
      ],
      "execution_count": null,
      "outputs": []
    },
    {
      "cell_type": "code",
      "metadata": {
        "id": "WHcd28XTPV7k"
      },
      "source": [
        ""
      ],
      "execution_count": null,
      "outputs": []
    }
  ]
}